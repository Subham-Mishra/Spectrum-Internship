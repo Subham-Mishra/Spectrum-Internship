{
 "cells": [
  {
   "cell_type": "code",
   "execution_count": 4,
   "metadata": {},
   "outputs": [
    {
     "name": "stdout",
     "output_type": "stream",
     "text": [
      "[100, 108, 112, 115, 150, 178, 143, 132, 190, 235, 253, 298, 328, 390, 257, 288, 393, 425, 458, 450, 473, 333, 452, 490, 495, 488, 543, 532, 590, 605]\n"
     ]
    }
   ],
   "source": [
    "import numpy as np\n",
    "import matplotlib.pyplot as plt\n",
    "scores = {\"Day 1\": 100, \"Day 2\": 108, \"Day 3\":112, \"Day 4\":115, \"Day 5\":150,\n",
    "          \"Day 6\":178, \"Day 7\": 143, \"Day 8\": 132, \"Day 9\":190, \"Day 10\": 235,\n",
    "          \"Day 11\":253, \"Day 12\": 298, \"Day 13\": 328, \"Day 14\":390, \"Day 15\": 257,\n",
    "          \"Day 16\":288, \"Day 17\": 393, \"Day 18\": 425, \"Day 19\":458, \"Day 20\": 450,\n",
    "          \"Day 21\":473, \"Day 22\": 333, \"Day 23\": 452, \"Day 24\":490, \"Day 25\": 495,\n",
    "          \"Day 26\":488, \"Day 27\": 543, \"Day 28\": 532, \"Day 29\":590, \"Day 30\": 605}\n",
    "\n",
    "Scores=list(scores.values())\n",
    "print(Scores)"
   ]
  },
  {
   "cell_type": "code",
   "execution_count": 6,
   "metadata": {},
   "outputs": [
    {
     "data": {
      "text/plain": [
       "array([ 1,  2,  3,  4,  5,  6,  7,  8,  9, 10, 11, 12, 13, 14, 15, 16, 17,\n",
       "       18, 19, 20, 21, 22, 23, 24, 25, 26, 27, 28, 29, 30])"
      ]
     },
     "execution_count": 6,
     "metadata": {},
     "output_type": "execute_result"
    }
   ],
   "source": [
    "Days=np.array(range(1,31))\n",
    "Days"
   ]
  },
  {
   "cell_type": "code",
   "execution_count": 23,
   "metadata": {},
   "outputs": [
    {
     "data": {
      "text/plain": [
       "[<matplotlib.lines.Line2D at 0x2110a3db988>]"
      ]
     },
     "execution_count": 23,
     "metadata": {},
     "output_type": "execute_result"
    },
    {
     "data": {
      "text/plain": [
       "Text(0.5, 0, 'Scores')"
      ]
     },
     "execution_count": 23,
     "metadata": {},
     "output_type": "execute_result"
    },
    {
     "data": {
      "text/plain": [
       "Text(0, 0.5, 'Days')"
      ]
     },
     "execution_count": 23,
     "metadata": {},
     "output_type": "execute_result"
    },
    {
     "data": {
      "image/png": "[encoded data removed]",
      "text/plain": [
       "<Figure size 432x288 with 1 Axes>"
      ]
     },
     "metadata": {
      "needs_background": "light"
     },
     "output_type": "display_data"
    }
   ],
   "source": [
    "plt.plot(Scores,Days,'b-o')\n",
    "plt.xlabel('Scores')\n",
    "plt.ylabel('Days')"
   ]
  },
  {
   "cell_type": "code",
   "execution_count": 13,
   "metadata": {},
   "outputs": [
    {
     "data": {
      "text/plain": [
       "<matplotlib.collections.PathCollection at 0x21109094248>"
      ]
     },
     "execution_count": 13,
     "metadata": {},
     "output_type": "execute_result"
    },
    {
     "data": {
      "text/plain": [
       "Text(0.5, 0, 'Scores')"
      ]
     },
     "execution_count": 13,
     "metadata": {},
     "output_type": "execute_result"
    },
    {
     "data": {
      "text/plain": [
       "Text(0, 0.5, 'Days')"
      ]
     },
     "execution_count": 13,
     "metadata": {},
     "output_type": "execute_result"
    },
    {
     "data": {
      "image/png": "[encoded data removed]",
      "text/plain": [
       "<Figure size 432x288 with 1 Axes>"
      ]
     },
     "metadata": {
      "needs_background": "light"
     },
     "output_type": "display_data"
    }
   ],
   "source": [
    "plt.scatter(Scores,Days)\n",
    "plt.xlabel('Scores')\n",
    "plt.ylabel('Days')\n",
    "plt.show()"
   ]
  },
  {
   "cell_type": "code",
   "execution_count": 33,
   "metadata": {},
   "outputs": [
    {
     "name": "stdout",
     "output_type": "stream",
     "text": [
      "Mean Value :  333.46666666666664\n",
      "Median :  330.5\n",
      "Minimum Value :  100\n",
      "Maximum Value :  605\n"
     ]
    }
   ],
   "source": [
    "mean=np.mean(Scores)\n",
    "median=np.median(Scores)\n",
    "min=np.min(Scores)\n",
    "max=np.max(Scores)\n",
    "print(\"Mean Value : \",mean)\n",
    "print(\"Median : \",median)\n",
    "print(\"Minimum Value : \",min)\n",
    "print(\"Maximum Value : \",max)"
   ]
  }
 ],
 "metadata": {
  "kernelspec": {
   "display_name": "Python 3",
   "language": "python",
   "name": "python3"
  },
  "language_info": {
   "codemirror_mode": {
    "name": "ipython",
    "version": 3
   },
   "file_extension": ".py",
   "mimetype": "text/x-python",
   "name": "python",
   "nbconvert_exporter": "python",
   "pygments_lexer": "ipython3",
   "version": "3.7.6"
  }
 },
 "nbformat": 4,
 "nbformat_minor": 4
}
